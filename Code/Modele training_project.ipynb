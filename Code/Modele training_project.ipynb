{
 "cells": [
  {
   "cell_type": "markdown",
   "metadata": {},
   "source": [
    "# Emotion detection using CNN \n",
    "## A) Creating the model"
   ]
  },
  {
   "cell_type": "code",
   "execution_count": 2,
   "metadata": {},
   "outputs": [],
   "source": [
    "import pandas as pd\n",
    "import numpy as np\n",
    "from keras.models import Sequential\n",
    "from keras.layers.core import Flatten, Dense, Dropout\n",
    "from keras.layers.convolutional import Convolution2D, MaxPooling2D, ZeroPadding2D\n",
    "from keras.optimizers import SGD\n",
    "import cv2\n",
    "import keras\n",
    "import keras.utils\n",
    "from keras import utils as np_utils\n",
    "from keras.utils.np_utils import to_categorical\n",
    "import h5py"
   ]
  },
  {
   "cell_type": "markdown",
   "metadata": {},
   "source": [
    "#### 1) Link for loading the database"
   ]
  },
  {
   "cell_type": "markdown",
   "metadata": {},
   "source": [
    "##### 1.1) For Romain :"
   ]
  },
  {
   "cell_type": "code",
   "execution_count": 3,
   "metadata": {},
   "outputs": [
    {
     "name": "stdout",
     "output_type": "stream",
     "text": [
      "       emotion                                             pixels        Usage\n",
      "0            0  70 80 82 72 58 58 60 63 54 58 60 48 89 115 121...     Training\n",
      "1            0  151 150 147 155 148 133 111 140 170 174 182 15...     Training\n",
      "2            2  231 212 156 164 174 138 161 173 182 200 106 38...     Training\n",
      "3            4  24 32 36 30 32 23 19 20 30 41 21 22 32 34 21 1...     Training\n",
      "4            6  4 0 0 0 0 0 0 0 0 0 0 0 3 15 23 28 48 50 58 84...     Training\n",
      "...        ...                                                ...          ...\n",
      "35882        6  50 36 17 22 23 29 33 39 34 37 37 37 39 43 48 5...  PrivateTest\n",
      "35883        3  178 174 172 173 181 188 191 194 196 199 200 20...  PrivateTest\n",
      "35884        0  17 17 16 23 28 22 19 17 25 26 20 24 31 19 27 9...  PrivateTest\n",
      "35885        3  30 28 28 29 31 30 42 68 79 81 77 67 67 71 63 6...  PrivateTest\n",
      "35886        2  19 13 14 12 13 16 21 33 50 57 71 84 97 108 122...  PrivateTest\n",
      "\n",
      "[35887 rows x 3 columns]\n"
     ]
    }
   ],
   "source": [
    "emotion_data = pd.read_csv('/Users/romai/Documents/Ecole/Ingé - M1_auto/Q2/Système intelligent/fer2013.csv')\n",
    "print(emotion_data)"
   ]
  },
  {
   "cell_type": "markdown",
   "metadata": {},
   "source": [
    "##### 1.2) For Lucas :"
   ]
  },
  {
   "cell_type": "code",
   "execution_count": null,
   "metadata": {},
   "outputs": [],
   "source": [
    "emotion_data = pd.read_csv('/Users/Lucas/Documents/Ingenieur_Industriel/Master_1/Q2/Systèmes_intelligents/fer2013.csv')\n",
    "print(emotion_data)"
   ]
  },
  {
   "cell_type": "markdown",
   "metadata": {},
   "source": [
    "#### 2) Reading the data"
   ]
  },
  {
   "cell_type": "code",
   "execution_count": 4,
   "metadata": {},
   "outputs": [
    {
     "data": {
      "text/html": [
       "<div>\n",
       "<style scoped>\n",
       "    .dataframe tbody tr th:only-of-type {\n",
       "        vertical-align: middle;\n",
       "    }\n",
       "\n",
       "    .dataframe tbody tr th {\n",
       "        vertical-align: top;\n",
       "    }\n",
       "\n",
       "    .dataframe thead th {\n",
       "        text-align: right;\n",
       "    }\n",
       "</style>\n",
       "<table border=\"1\" class=\"dataframe\">\n",
       "  <thead>\n",
       "    <tr style=\"text-align: right;\">\n",
       "      <th></th>\n",
       "      <th>emotion</th>\n",
       "      <th>pixels</th>\n",
       "      <th>Usage</th>\n",
       "    </tr>\n",
       "  </thead>\n",
       "  <tbody>\n",
       "    <tr>\n",
       "      <th>0</th>\n",
       "      <td>0</td>\n",
       "      <td>70 80 82 72 58 58 60 63 54 58 60 48 89 115 121...</td>\n",
       "      <td>Training</td>\n",
       "    </tr>\n",
       "    <tr>\n",
       "      <th>1</th>\n",
       "      <td>0</td>\n",
       "      <td>151 150 147 155 148 133 111 140 170 174 182 15...</td>\n",
       "      <td>Training</td>\n",
       "    </tr>\n",
       "    <tr>\n",
       "      <th>2</th>\n",
       "      <td>2</td>\n",
       "      <td>231 212 156 164 174 138 161 173 182 200 106 38...</td>\n",
       "      <td>Training</td>\n",
       "    </tr>\n",
       "    <tr>\n",
       "      <th>3</th>\n",
       "      <td>4</td>\n",
       "      <td>24 32 36 30 32 23 19 20 30 41 21 22 32 34 21 1...</td>\n",
       "      <td>Training</td>\n",
       "    </tr>\n",
       "    <tr>\n",
       "      <th>4</th>\n",
       "      <td>6</td>\n",
       "      <td>4 0 0 0 0 0 0 0 0 0 0 0 3 15 23 28 48 50 58 84...</td>\n",
       "      <td>Training</td>\n",
       "    </tr>\n",
       "  </tbody>\n",
       "</table>\n",
       "</div>"
      ],
      "text/plain": [
       "   emotion                                             pixels     Usage\n",
       "0        0  70 80 82 72 58 58 60 63 54 58 60 48 89 115 121...  Training\n",
       "1        0  151 150 147 155 148 133 111 140 170 174 182 15...  Training\n",
       "2        2  231 212 156 164 174 138 161 173 182 200 106 38...  Training\n",
       "3        4  24 32 36 30 32 23 19 20 30 41 21 22 32 34 21 1...  Training\n",
       "4        6  4 0 0 0 0 0 0 0 0 0 0 0 3 15 23 28 48 50 58 84...  Training"
      ]
     },
     "execution_count": 4,
     "metadata": {},
     "output_type": "execute_result"
    }
   ],
   "source": [
    "emotion_data.head()"
   ]
  },
  {
   "cell_type": "code",
   "execution_count": 5,
   "metadata": {},
   "outputs": [
    {
     "data": {
      "text/plain": [
       "Index(['emotion', 'pixels', 'Usage'], dtype='object')"
      ]
     },
     "execution_count": 5,
     "metadata": {},
     "output_type": "execute_result"
    }
   ],
   "source": [
    "emotion_data.columns"
   ]
  },
  {
   "cell_type": "code",
   "execution_count": 6,
   "metadata": {},
   "outputs": [
    {
     "name": "stdout",
     "output_type": "stream",
     "text": [
      "<class 'pandas.core.frame.DataFrame'>\n",
      "RangeIndex: 35887 entries, 0 to 35886\n",
      "Data columns (total 3 columns):\n",
      " #   Column   Non-Null Count  Dtype \n",
      "---  ------   --------------  ----- \n",
      " 0   emotion  35887 non-null  int64 \n",
      " 1   pixels   35887 non-null  object\n",
      " 2   Usage    35887 non-null  object\n",
      "dtypes: int64(1), object(2)\n",
      "memory usage: 841.2+ KB\n"
     ]
    }
   ],
   "source": [
    "emotion_data.info()"
   ]
  },
  {
   "cell_type": "markdown",
   "metadata": {},
   "source": [
    "#### 3) Formation of matrices"
   ]
  },
  {
   "cell_type": "code",
   "execution_count": 7,
   "metadata": {},
   "outputs": [],
   "source": [
    "# Premièrement, création sous forme de List\n",
    "X_train = []\n",
    "y_train = []\n",
    "X_test = []\n",
    "y_test = []\n",
    "\n",
    "# Pour chaque ligne de la base de donnée, si il s'agit d'un \"Training\" les données vont être attribuées\n",
    "# à X_train et l'émotion correspondante à y_train\n",
    "# Si il s'agit d'un \"Public test\", les données vont être attribuées à X_test et l'émotion correspondante\n",
    "# à y_test\n",
    "for index, row in emotion_data.iterrows():\n",
    "    k = row['pixels'].split(\" \")\n",
    "    if row['Usage'] == 'Training':\n",
    "        X_train.append(np.array(k,'float32'))\n",
    "        y_train.append(row['emotion'])\n",
    "    elif row['Usage'] == 'PublicTest':\n",
    "        X_test.append(np.array(k,'float32'))\n",
    "        y_test.append(row['emotion'])"
   ]
  },
  {
   "cell_type": "code",
   "execution_count": 8,
   "metadata": {},
   "outputs": [],
   "source": [
    "# Transformation du list en array et du type des données en float32\n",
    "X_train = np.array(X_train,'float32')\n",
    "y_train = np.array(y_train,'float32')\n",
    "X_test = np.array(X_test,'float32')\n",
    "y_test = np.array(y_test,'float32')\n",
    "\n",
    "# Convertion du vecteur de classe (entiers) en une matrice de classe binaire.\n",
    "y_train= to_categorical(y_train, num_classes=7)\n",
    "y_test = to_categorical(y_test, num_classes=7)"
   ]
  },
  {
   "cell_type": "markdown",
   "metadata": {},
   "source": [
    "#### 4) Normalization of data between 0 and 1"
   ]
  },
  {
   "cell_type": "code",
   "execution_count": 9,
   "metadata": {},
   "outputs": [
    {
     "name": "stdout",
     "output_type": "stream",
     "text": [
      "X_train :  (28709, 48, 48, 1)\n",
      "y_train :  (28709, 7)\n",
      "X_test  :  (3589, 48, 48, 1)\n",
      "y_test  :  (3589, 7)\n"
     ]
    }
   ],
   "source": [
    "# Transformation des éléments des matrices en un nombre entre 0 et 1 pour faciliter l'apprentissage\n",
    "X_train -= np.mean(X_train, axis=0)\n",
    "X_train /= np.std(X_train, axis=0)\n",
    "\n",
    "X_test -= np.mean(X_test, axis=0)\n",
    "X_test /= np.std(X_test, axis=0)\n",
    "\n",
    "# Remodulation de X_train et X_test en image de 48x48 pixels\n",
    "X_train = X_train.reshape(X_train.shape[0], 48, 48, 1)\n",
    "X_test = X_test.reshape(X_test.shape[0], 48, 48, 1)\n",
    "\n",
    "# Visualisation de la forme des matrices\n",
    "print('X_train : ',X_train.shape)\n",
    "print('y_train : ',y_train.shape)\n",
    "print('X_test  : ',X_test.shape)\n",
    "print('y_test  : ',y_test.shape)"
   ]
  },
  {
   "cell_type": "markdown",
   "metadata": {},
   "source": [
    "#### 5) Creating the model"
   ]
  },
  {
   "cell_type": "markdown",
   "metadata": {},
   "source": [
    "##### 5.1) Designing the CNN"
   ]
  },
  {
   "cell_type": "code",
   "execution_count": 10,
   "metadata": {},
   "outputs": [
    {
     "name": "stdout",
     "output_type": "stream",
     "text": [
      "Model: \"sequential\"\n",
      "_________________________________________________________________\n",
      "Layer (type)                 Output Shape              Param #   \n",
      "=================================================================\n",
      "conv2d (Conv2D)              (None, 46, 46, 64)        640       \n",
      "_________________________________________________________________\n",
      "conv2d_1 (Conv2D)            (None, 44, 44, 64)        36928     \n",
      "_________________________________________________________________\n",
      "max_pooling2d (MaxPooling2D) (None, 22, 22, 64)        0         \n",
      "_________________________________________________________________\n",
      "dropout (Dropout)            (None, 22, 22, 64)        0         \n",
      "_________________________________________________________________\n",
      "conv2d_2 (Conv2D)            (None, 20, 20, 64)        36928     \n",
      "_________________________________________________________________\n",
      "conv2d_3 (Conv2D)            (None, 18, 18, 64)        36928     \n",
      "_________________________________________________________________\n",
      "max_pooling2d_1 (MaxPooling2 (None, 9, 9, 64)          0         \n",
      "_________________________________________________________________\n",
      "dropout_1 (Dropout)          (None, 9, 9, 64)          0         \n",
      "_________________________________________________________________\n",
      "conv2d_4 (Conv2D)            (None, 7, 7, 128)         73856     \n",
      "_________________________________________________________________\n",
      "conv2d_5 (Conv2D)            (None, 5, 5, 128)         147584    \n",
      "_________________________________________________________________\n",
      "max_pooling2d_2 (MaxPooling2 (None, 2, 2, 128)         0         \n",
      "_________________________________________________________________\n",
      "flatten (Flatten)            (None, 512)               0         \n",
      "_________________________________________________________________\n",
      "dense (Dense)                (None, 1024)              525312    \n",
      "_________________________________________________________________\n",
      "dropout_2 (Dropout)          (None, 1024)              0         \n",
      "_________________________________________________________________\n",
      "dense_1 (Dense)              (None, 1024)              1049600   \n",
      "_________________________________________________________________\n",
      "dropout_3 (Dropout)          (None, 1024)              0         \n",
      "_________________________________________________________________\n",
      "dense_2 (Dense)              (None, 7)                 7175      \n",
      "=================================================================\n",
      "Total params: 1,914,951\n",
      "Trainable params: 1,914,951\n",
      "Non-trainable params: 0\n",
      "_________________________________________________________________\n"
     ]
    }
   ],
   "source": [
    "# Creation d'un model lineaire de piles de couches\n",
    "model = Sequential()\n",
    "\n",
    "# 1nst convolution layer\n",
    "model.add(Convolution2D(64,kernel_size=(3,3), activation='relu', input_shape=(X_train.shape[1:])))\n",
    "model.add(Convolution2D(64,kernel_size=(3,3), activation='relu'))\n",
    "model.add(MaxPooling2D(pool_size=(2, 2), strides=(2,2)))\n",
    "model.add(Dropout(0.5))\n",
    "\n",
    "# 2nd convolution layer\n",
    "model.add(Convolution2D(64, (3,3), activation='relu'))\n",
    "model.add(Convolution2D(64, (3,3), activation='relu'))\n",
    "model.add(MaxPooling2D(pool_size=(2, 2), strides=(2,2)))\n",
    "model.add(Dropout(0.5))\n",
    "\n",
    "# 3nd convolution layer\n",
    "model.add(Convolution2D(128, (3,3), activation='relu'))\n",
    "model.add(Convolution2D(128, (3,3), activation='relu'))\n",
    "model.add(MaxPooling2D(pool_size=(2, 2), strides=(2,2)))\n",
    "\n",
    "# Passage en matrice à 1D\n",
    "model.add(Flatten())\n",
    "\n",
    "model.add(Dense(1024, activation='relu'))\n",
    "model.add(Dropout(0.2))\n",
    "model.add(Dense(1024, activation='relu'))\n",
    "model.add(Dropout(0.2))\n",
    "\n",
    "# Probabilité des classes\n",
    "model.add(Dense(7, activation='softmax'))\n",
    "\n",
    "# Affichage du sommaire du model\n",
    "model.summary()"
   ]
  },
  {
   "cell_type": "markdown",
   "metadata": {},
   "source": [
    "##### 5.2) Model training"
   ]
  },
  {
   "cell_type": "code",
   "execution_count": 11,
   "metadata": {},
   "outputs": [],
   "source": [
    "# Configuration des pertes et métriques du model\n",
    "model.compile(loss='categorical_crossentropy', optimizer='sgd', metrics=['accuracy'])"
   ]
  },
  {
   "cell_type": "code",
   "execution_count": 12,
   "metadata": {},
   "outputs": [
    {
     "name": "stdout",
     "output_type": "stream",
     "text": [
      "Epoch 1/50\n",
      "449/449 [==============================] - 309s 686ms/step - loss: 1.8592 - accuracy: 0.2420 - val_loss: 1.8152 - val_accuracy: 0.2577\n",
      "Epoch 2/50\n",
      "449/449 [==============================] - 2462s 5s/step - loss: 1.7941 - accuracy: 0.2571 - val_loss: 1.7949 - val_accuracy: 0.2519\n",
      "Epoch 3/50\n",
      "449/449 [==============================] - 314s 700ms/step - loss: 1.7857 - accuracy: 0.2562 - val_loss: 1.7833 - val_accuracy: 0.2524\n",
      "Epoch 4/50\n",
      "449/449 [==============================] - 312s 694ms/step - loss: 1.7714 - accuracy: 0.2618 - val_loss: 1.7715 - val_accuracy: 0.2533\n",
      "Epoch 5/50\n",
      "449/449 [==============================] - 308s 686ms/step - loss: 1.7611 - accuracy: 0.2723 - val_loss: 1.7631 - val_accuracy: 0.2683\n",
      "Epoch 6/50\n",
      "449/449 [==============================] - 311s 692ms/step - loss: 1.7463 - accuracy: 0.2856 - val_loss: 1.7360 - val_accuracy: 0.2967\n",
      "Epoch 7/50\n",
      "449/449 [==============================] - 311s 692ms/step - loss: 1.7227 - accuracy: 0.3024 - val_loss: 1.7038 - val_accuracy: 0.3076\n",
      "Epoch 8/50\n",
      "449/449 [==============================] - 314s 700ms/step - loss: 1.6871 - accuracy: 0.3238 - val_loss: 1.6840 - val_accuracy: 0.3076\n",
      "Epoch 9/50\n",
      "449/449 [==============================] - 311s 693ms/step - loss: 1.6744 - accuracy: 0.3340 - val_loss: 1.6595 - val_accuracy: 0.3318\n",
      "Epoch 10/50\n",
      "449/449 [==============================] - 309s 689ms/step - loss: 1.6428 - accuracy: 0.3516 - val_loss: 1.6237 - val_accuracy: 0.3575\n",
      "Epoch 11/50\n",
      "449/449 [==============================] - 307s 683ms/step - loss: 1.6288 - accuracy: 0.3577 - val_loss: 1.6078 - val_accuracy: 0.3594\n",
      "Epoch 12/50\n",
      "449/449 [==============================] - 308s 685ms/step - loss: 1.6197 - accuracy: 0.3632 - val_loss: 1.5851 - val_accuracy: 0.3725\n",
      "Epoch 13/50\n",
      "449/449 [==============================] - 306s 681ms/step - loss: 1.5982 - accuracy: 0.3714 - val_loss: 1.5882 - val_accuracy: 0.3700\n",
      "Epoch 14/50\n",
      "449/449 [==============================] - 308s 685ms/step - loss: 1.5806 - accuracy: 0.3769 - val_loss: 1.5507 - val_accuracy: 0.4004\n",
      "Epoch 15/50\n",
      "449/449 [==============================] - 306s 682ms/step - loss: 1.5738 - accuracy: 0.3868 - val_loss: 1.5233 - val_accuracy: 0.4040\n",
      "Epoch 16/50\n",
      "449/449 [==============================] - 307s 685ms/step - loss: 1.5532 - accuracy: 0.3884 - val_loss: 1.5177 - val_accuracy: 0.4087\n",
      "Epoch 17/50\n",
      "449/449 [==============================] - 305s 680ms/step - loss: 1.5368 - accuracy: 0.4003 - val_loss: 1.5092 - val_accuracy: 0.4057\n",
      "Epoch 18/50\n",
      "449/449 [==============================] - 307s 683ms/step - loss: 1.5113 - accuracy: 0.4144 - val_loss: 1.4720 - val_accuracy: 0.4386\n",
      "Epoch 19/50\n",
      "449/449 [==============================] - 308s 686ms/step - loss: 1.5010 - accuracy: 0.4220 - val_loss: 1.4620 - val_accuracy: 0.4466\n",
      "Epoch 20/50\n",
      "449/449 [==============================] - 311s 693ms/step - loss: 1.4830 - accuracy: 0.4266 - val_loss: 1.4450 - val_accuracy: 0.4419\n",
      "Epoch 21/50\n",
      "449/449 [==============================] - 308s 687ms/step - loss: 1.4598 - accuracy: 0.4362 - val_loss: 1.4148 - val_accuracy: 0.4600\n",
      "Epoch 22/50\n",
      "449/449 [==============================] - 308s 685ms/step - loss: 1.4516 - accuracy: 0.4360 - val_loss: 1.4049 - val_accuracy: 0.4639\n",
      "Epoch 23/50\n",
      "449/449 [==============================] - 306s 682ms/step - loss: 1.4329 - accuracy: 0.4538 - val_loss: 1.3904 - val_accuracy: 0.4734\n",
      "Epoch 24/50\n",
      "449/449 [==============================] - 308s 686ms/step - loss: 1.4216 - accuracy: 0.4561 - val_loss: 1.3832 - val_accuracy: 0.4639\n",
      "Epoch 25/50\n",
      "449/449 [==============================] - 307s 684ms/step - loss: 1.3996 - accuracy: 0.4644 - val_loss: 1.3739 - val_accuracy: 0.4703\n",
      "Epoch 26/50\n",
      "449/449 [==============================] - 306s 682ms/step - loss: 1.3946 - accuracy: 0.4639 - val_loss: 1.3519 - val_accuracy: 0.4756\n",
      "Epoch 27/50\n",
      "449/449 [==============================] - 307s 684ms/step - loss: 1.3764 - accuracy: 0.4723 - val_loss: 1.3471 - val_accuracy: 0.4851\n",
      "Epoch 28/50\n",
      "449/449 [==============================] - 307s 684ms/step - loss: 1.3644 - accuracy: 0.4749 - val_loss: 1.3307 - val_accuracy: 0.4809\n",
      "Epoch 29/50\n",
      "449/449 [==============================] - 305s 679ms/step - loss: 1.3443 - accuracy: 0.4832 - val_loss: 1.3193 - val_accuracy: 0.4946\n",
      "Epoch 30/50\n",
      "449/449 [==============================] - 305s 679ms/step - loss: 1.3356 - accuracy: 0.4884 - val_loss: 1.3235 - val_accuracy: 0.4929\n",
      "Epoch 31/50\n",
      "449/449 [==============================] - 305s 680ms/step - loss: 1.3293 - accuracy: 0.4892 - val_loss: 1.3263 - val_accuracy: 0.4940\n",
      "Epoch 32/50\n",
      "449/449 [==============================] - 305s 680ms/step - loss: 1.3164 - accuracy: 0.4952 - val_loss: 1.2831 - val_accuracy: 0.5065\n",
      "Epoch 33/50\n",
      "449/449 [==============================] - 306s 681ms/step - loss: 1.3083 - accuracy: 0.5027 - val_loss: 1.3136 - val_accuracy: 0.4909\n",
      "Epoch 34/50\n",
      "449/449 [==============================] - 306s 681ms/step - loss: 1.2953 - accuracy: 0.5040 - val_loss: 1.2915 - val_accuracy: 0.5085\n",
      "Epoch 35/50\n",
      "449/449 [==============================] - 303s 675ms/step - loss: 1.2883 - accuracy: 0.5046 - val_loss: 1.2665 - val_accuracy: 0.5160\n",
      "Epoch 36/50\n",
      "449/449 [==============================] - 307s 683ms/step - loss: 1.2641 - accuracy: 0.5167 - val_loss: 1.2488 - val_accuracy: 0.5255\n",
      "Epoch 37/50\n",
      "449/449 [==============================] - 307s 683ms/step - loss: 1.2607 - accuracy: 0.5192 - val_loss: 1.2718 - val_accuracy: 0.5135\n",
      "Epoch 38/50\n",
      "449/449 [==============================] - 316s 703ms/step - loss: 1.2471 - accuracy: 0.5230 - val_loss: 1.2458 - val_accuracy: 0.5247\n",
      "Epoch 39/50\n",
      "449/449 [==============================] - 311s 693ms/step - loss: 1.2361 - accuracy: 0.5252 - val_loss: 1.2381 - val_accuracy: 0.5297\n",
      "Epoch 40/50\n",
      "449/449 [==============================] - 309s 689ms/step - loss: 1.2279 - accuracy: 0.5293 - val_loss: 1.2276 - val_accuracy: 0.5336\n",
      "Epoch 41/50\n",
      "449/449 [==============================] - 308s 687ms/step - loss: 1.2140 - accuracy: 0.5320 - val_loss: 1.2324 - val_accuracy: 0.5322\n",
      "Epoch 42/50\n",
      "449/449 [==============================] - 308s 686ms/step - loss: 1.2062 - accuracy: 0.5405 - val_loss: 1.2198 - val_accuracy: 0.5372\n",
      "Epoch 43/50\n",
      "449/449 [==============================] - 310s 690ms/step - loss: 1.1937 - accuracy: 0.5459 - val_loss: 1.2152 - val_accuracy: 0.5383\n",
      "Epoch 44/50\n",
      "449/449 [==============================] - 308s 686ms/step - loss: 1.1928 - accuracy: 0.5449 - val_loss: 1.2132 - val_accuracy: 0.5352\n",
      "Epoch 45/50\n",
      "449/449 [==============================] - 308s 686ms/step - loss: 1.1833 - accuracy: 0.5484 - val_loss: 1.2374 - val_accuracy: 0.5330\n",
      "Epoch 46/50\n",
      "449/449 [==============================] - 309s 689ms/step - loss: 1.1729 - accuracy: 0.5549 - val_loss: 1.2257 - val_accuracy: 0.5372\n",
      "Epoch 47/50\n",
      "449/449 [==============================] - 308s 686ms/step - loss: 1.1678 - accuracy: 0.5547 - val_loss: 1.1962 - val_accuracy: 0.5456\n",
      "Epoch 48/50\n",
      "449/449 [==============================] - 307s 684ms/step - loss: 1.1560 - accuracy: 0.5586 - val_loss: 1.2041 - val_accuracy: 0.5481\n",
      "Epoch 49/50\n",
      "449/449 [==============================] - 310s 690ms/step - loss: 1.1505 - accuracy: 0.5678 - val_loss: 1.1859 - val_accuracy: 0.5556\n",
      "Epoch 50/50\n",
      "449/449 [==============================] - 308s 686ms/step - loss: 1.1349 - accuracy: 0.5695 - val_loss: 1.1865 - val_accuracy: 0.5600\n"
     ]
    },
    {
     "data": {
      "text/plain": [
       "<tensorflow.python.keras.callbacks.History at 0x2658d1b3460>"
      ]
     },
     "execution_count": 12,
     "metadata": {},
     "output_type": "execute_result"
    }
   ],
   "source": [
    "# Entrainement du model\n",
    "model.fit(X_train, y_train, batch_size=64, epochs=50, verbose=1, validation_data = (X_test, y_test), shuffle=True)"
   ]
  },
  {
   "cell_type": "code",
   "execution_count": 13,
   "metadata": {},
   "outputs": [
    {
     "name": "stdout",
     "output_type": "stream",
     "text": [
      "113/113 [==============================] - 17s 152ms/step - loss: 1.1865 - accuracy: 0.5600\n",
      "[1.1864726543426514, 0.5600445866584778]\n"
     ]
    }
   ],
   "source": [
    "loss_and_metrics = model.evaluate(X_test,y_test)\n",
    "print(loss_and_metrics)"
   ]
  },
  {
   "cell_type": "markdown",
   "metadata": {},
   "source": [
    "##### 5.3) Save model with h5py"
   ]
  },
  {
   "cell_type": "code",
   "execution_count": 14,
   "metadata": {},
   "outputs": [],
   "source": [
    "model.save('model_emotion_detection.h5')"
   ]
  }
 ],
 "metadata": {
  "kernelspec": {
   "display_name": "Python 3",
   "language": "python",
   "name": "python3"
  },
  "language_info": {
   "codemirror_mode": {
    "name": "ipython",
    "version": 3
   },
   "file_extension": ".py",
   "mimetype": "text/x-python",
   "name": "python",
   "nbconvert_exporter": "python",
   "pygments_lexer": "ipython3",
   "version": "3.8.5"
  }
 },
 "nbformat": 4,
 "nbformat_minor": 4
}
