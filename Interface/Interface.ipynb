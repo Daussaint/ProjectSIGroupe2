{
 "cells": [
  {
   "cell_type": "code",
   "execution_count": 1,
   "metadata": {},
   "outputs": [],
   "source": [
    "from tkinter import *"
   ]
  },
  {
   "cell_type": "code",
   "execution_count": 25,
   "metadata": {},
   "outputs": [],
   "source": [
    "# creer une premiere fenetre\n",
    "window = Tk()\n",
    "\n",
    "#personnaliser la fenetre\n",
    "window.title(\"Emotion recognition\")\n",
    "window.geometry(\"1080x720\")\n",
    "#window.minimize(480, 360)\n",
    "window.config(background = \"darkblue\")"
   ]
  },
  {
   "cell_type": "code",
   "execution_count": 3,
   "metadata": {},
   "outputs": [],
   "source": [
    "# Creer une frame pour y placer un texte ou button ou autre\n",
    "#frame = Frame(window, bg = 'green', bd = 1, relief = SUNKEN)"
   ]
  },
  {
   "cell_type": "code",
   "execution_count": 26,
   "metadata": {},
   "outputs": [],
   "source": [
    "# Ajouter un premier texte\n",
    "label_title = Label(window, text = \"Present your face in front of the webcam and click on Start button\", font = (\"Arial\", 30), bg = \"darkblue\", fg = \"white\")\n",
    "label_title.pack() #pour afficher le titre\n",
    "\n",
    "# Ajouter un second texte\n",
    "label_subtitle = Label(window, text = \"Here's your real time emotion : \", font = (\"Arial\", 20), bg = \"darkblue\", fg = \"white\")\n",
    "label_subtitle.pack(expand = YES) #pour afficher le titre\n",
    "#personaliser ce texte"
   ]
  },
  {
   "cell_type": "code",
   "execution_count": 27,
   "metadata": {},
   "outputs": [],
   "source": [
    "# Ajouter un bouton\n",
    "button = Button(window, text = \"Start\", font =(\"Arial\", 20), bg = 'white', fg = 'darkblue')\n",
    "button.pack(side = TOP, fill = X, expand = False)"
   ]
  },
  {
   "cell_type": "code",
   "execution_count": null,
   "metadata": {},
   "outputs": [],
   "source": [
    "# afficher la fenetre\n",
    "window.mainloop()"
   ]
  },
  {
   "cell_type": "code",
   "execution_count": null,
   "metadata": {},
   "outputs": [],
   "source": []
  }
 ],
 "metadata": {
  "kernelspec": {
   "display_name": "Python 3",
   "language": "python",
   "name": "python3"
  },
  "language_info": {
   "codemirror_mode": {
    "name": "ipython",
    "version": 3
   },
   "file_extension": ".py",
   "mimetype": "text/x-python",
   "name": "python",
   "nbconvert_exporter": "python",
   "pygments_lexer": "ipython3",
   "version": "3.8.5"
  }
 },
 "nbformat": 4,
 "nbformat_minor": 4
}
